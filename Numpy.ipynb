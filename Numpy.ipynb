{
  "nbformat": 4,
  "nbformat_minor": 0,
  "metadata": {
    "colab": {
      "provenance": [],
      "authorship_tag": "ABX9TyON6dG5HUvx0rit+F+fU/Rv",
      "include_colab_link": true
    },
    "kernelspec": {
      "name": "python3",
      "display_name": "Python 3"
    },
    "language_info": {
      "name": "python"
    }
  },
  "cells": [
    {
      "cell_type": "markdown",
      "metadata": {
        "id": "view-in-github",
        "colab_type": "text"
      },
      "source": [
        "<a href=\"https://colab.research.google.com/github/fayzi-dev/machin_learning/blob/main/Numpy.ipynb\" target=\"_parent\"><img src=\"https://colab.research.google.com/assets/colab-badge.svg\" alt=\"Open In Colab\"/></a>"
      ]
    },
    {
      "cell_type": "markdown",
      "source": [
        "Example Numpy Code by Mohammad fayzi"
      ],
      "metadata": {
        "id": "lo1doG2kwdh2"
      }
    },
    {
      "cell_type": "markdown",
      "source": [
        "# Install Numpy:Install it using this command:\n",
        "\n",
        "> #pip\n",
        "\n",
        "\n",
        ">pip3\n",
        "\n",
        "\n",
        "\n"
      ],
      "metadata": {
        "id": "gwb1xVqq-KM1"
      }
    },
    {
      "cell_type": "code",
      "source": [
        "pip install numpy\n",
        "pip3 install numpy"
      ],
      "metadata": {
        "id": "-1wenL4i-YN6"
      },
      "execution_count": 14,
      "outputs": []
    },
    {
      "cell_type": "markdown",
      "source": [
        "# **Import Numpy : show version numpy**\n",
        "### *NumPy is usually imported under the np alias.*"
      ],
      "metadata": {
        "id": "PGLa8ImI-4EO"
      }
    },
    {
      "cell_type": "code",
      "execution_count": null,
      "metadata": {
        "colab": {
          "base_uri": "https://localhost:8080/",
          "height": 35
        },
        "id": "3ZoxGPk1wTTO",
        "outputId": "fe0d4336-6555-4771-f936-105b49319eaa"
      },
      "outputs": [
        {
          "output_type": "execute_result",
          "data": {
            "text/plain": [
              "'1.26.4'"
            ],
            "application/vnd.google.colaboratory.intrinsic+json": {
              "type": "string"
            }
          },
          "metadata": {},
          "execution_count": 2
        }
      ],
      "source": [
        "import numpy as np\n",
        "np.__version__"
      ]
    },
    {
      "cell_type": "markdown",
      "source": [
        "**Create a new arrray by Numpy**"
      ],
      "metadata": {
        "id": "1tXZBFEA_HDD"
      }
    },
    {
      "cell_type": "code",
      "source": [
        "arr = np.array([1, 2, 3, 4])\n",
        "# print(arr)\n",
        "arr.shape"
      ],
      "metadata": {
        "colab": {
          "base_uri": "https://localhost:8080/"
        },
        "id": "sHUsQxFgynjf",
        "outputId": "8d7a3776-ca20-4c46-f40e-112120c2e653"
      },
      "execution_count": null,
      "outputs": [
        {
          "output_type": "execute_result",
          "data": {
            "text/plain": [
              "(4,)"
            ]
          },
          "metadata": {},
          "execution_count": 10
        }
      ]
    },
    {
      "cell_type": "markdown",
      "source": [
        "**Use a tuple to create a NumPy array:**\n",
        "\n"
      ],
      "metadata": {
        "id": "oJhxtuvp8jr5"
      }
    },
    {
      "cell_type": "code",
      "source": [
        "arr_tuple = np.array((1 ,2 ,3 , 4, 5, 6))\n",
        "arr_tuple"
      ],
      "metadata": {
        "colab": {
          "base_uri": "https://localhost:8080/"
        },
        "id": "-1FIWNx_8ceE",
        "outputId": "ad1cea04-0064-4f9c-bc1b-31d60f8a053b"
      },
      "execution_count": null,
      "outputs": [
        {
          "output_type": "execute_result",
          "data": {
            "text/plain": [
              "array([1, 2, 3, 4, 5, 6])"
            ]
          },
          "metadata": {},
          "execution_count": 11
        }
      ]
    }
  ]
}